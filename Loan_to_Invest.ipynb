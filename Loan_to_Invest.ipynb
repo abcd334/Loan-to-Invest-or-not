{
  "nbformat": 4,
  "nbformat_minor": 0,
  "metadata": {
    "colab": {
      "provenance": []
    },
    "kernelspec": {
      "name": "python3",
      "display_name": "Python 3"
    },
    "language_info": {
      "name": "python"
    }
  },
  "cells": [
    {
      "cell_type": "code",
      "source": [
        "!pip install numpy-financial"
      ],
      "metadata": {
        "colab": {
          "base_uri": "https://localhost:8080/"
        },
        "id": "dyVqTIuHJPMB",
        "outputId": "6f07d32b-fe19-40a7-ba74-828773f0b9b1"
      },
      "execution_count": 4,
      "outputs": [
        {
          "output_type": "stream",
          "name": "stdout",
          "text": [
            "Collecting numpy-financial\n",
            "  Downloading numpy_financial-1.0.0-py3-none-any.whl.metadata (2.2 kB)\n",
            "Requirement already satisfied: numpy>=1.15 in /usr/local/lib/python3.10/dist-packages (from numpy-financial) (1.26.4)\n",
            "Downloading numpy_financial-1.0.0-py3-none-any.whl (14 kB)\n",
            "Installing collected packages: numpy-financial\n",
            "Successfully installed numpy-financial-1.0.0\n"
          ]
        }
      ]
    },
    {
      "cell_type": "code",
      "execution_count": 5,
      "metadata": {
        "colab": {
          "base_uri": "https://localhost:8080/"
        },
        "id": "U2baHl-ZIUp_",
        "outputId": "1d755700-27c1-4adc-8f68-d9a71566cc98"
      },
      "outputs": [
        {
          "output_type": "stream",
          "name": "stdout",
          "text": [
            "貸款 1500000, 期數 36, 每期還款金額 -43621.81\n",
            "模擬 1000 次後，兩方案沒有明顯差異\n",
            "經過 36 期後\n",
            "未貸款方案平均收益為 370070.98\n",
            "貸款方案平均收益為 348006.59\n"
          ]
        }
      ],
      "source": [
        "import numpy as np\n",
        "import pandas as pd\n",
        "from scipy import stats\n",
        "import random as rd\n",
        "import numpy_financial as npf\n",
        "\n",
        "# 貸款參數\n",
        "Loan_amount = 1500000  # 貸款金額\n",
        "Loan_period = 36       # 貸款期數/月\n",
        "Loan_rate = 3          # 貸款年利息 %\n",
        "\n",
        "# 投資參數\n",
        "Invest_Amount = 10000          # 每月投入金額\n",
        "Invest_rate = 5                # 投資年報酬率 %\n",
        "Invest_period = 3              # 幾個月配息一次\n",
        "Expect_Price_Low = 15          # 投資商品預期價格低值\n",
        "Expect_Price_High = 25         # 投資商品預期價格高值\n",
        "\n",
        "# 初始化計算\n",
        "Expect_Price_Ave = (Expect_Price_High + Expect_Price_Low) / 2\n",
        "monthly_pay = npf.pmt(Loan_rate / 12 / 100, Loan_period, Loan_amount).round(2)\n",
        "\n",
        "# 模擬次數\n",
        "num_simulations = 1000\n",
        "simulation_results = []\n",
        "\n",
        "for sample in range(1, num_simulations + 1):\n",
        "    # 初始條件\n",
        "    initial_price = round(rd.uniform(Expect_Price_Low, Expect_Price_High), 2)\n",
        "    QTY_No_Loan = round(Invest_Amount / initial_price, 2)\n",
        "    QTY_Loan = round((Loan_amount + Invest_Amount) / initial_price, 2)\n",
        "    Acc_Pay_No_Loan = 0\n",
        "    Acc_Pay_Loan = 0\n",
        "\n",
        "    for period in range(2, Loan_period + 1):\n",
        "        # 更新價格\n",
        "        price = round(rd.uniform(Expect_Price_Low, Expect_Price_High), 2)\n",
        "\n",
        "        if period % Invest_period == 0:  # 配息月份\n",
        "            # 無貸款方案計算\n",
        "            Pay_No_Loan = round(QTY_No_Loan * Invest_rate / Invest_period / 100, 2)\n",
        "            QTY_No_Loan += round((Invest_Amount + Pay_No_Loan) / price, 2)\n",
        "            Acc_Pay_No_Loan += Pay_No_Loan\n",
        "\n",
        "            # 貸款方案計算\n",
        "            Pay_Loan = round(QTY_Loan * Invest_rate / Invest_period / 100, 2)\n",
        "            QTY_Loan += round((Invest_Amount + monthly_pay + Pay_Loan) / price, 2)\n",
        "            Acc_Pay_Loan += Pay_Loan\n",
        "        else:  # 非配息月份\n",
        "            QTY_No_Loan += round(Invest_Amount / price, 2)\n",
        "            QTY_Loan += round((Invest_Amount + monthly_pay) / price, 2)\n",
        "\n",
        "    # 記錄結果\n",
        "    simulation_results.append({\n",
        "        '模擬次數': f'第{sample}次',\n",
        "        '未貸款期末單位數': round(QTY_No_Loan, 2),\n",
        "        '貸款期末單位數': round(QTY_Loan, 2),\n",
        "        '未貸款期末本金': round(QTY_No_Loan * Expect_Price_Ave, 2),\n",
        "        '貸款期末本金': round(QTY_Loan * Expect_Price_Ave, 2),\n",
        "        '未貸款累積配息': round(Acc_Pay_No_Loan, 2),\n",
        "        '貸款累積配息': round(Acc_Pay_Loan, 2),\n",
        "    })\n",
        "\n",
        "# 將結果轉為 DataFrame\n",
        "data = pd.DataFrame(simulation_results)\n",
        "\n",
        "# 平均計算\n",
        "ave_no_loan_amt = data['未貸款期末本金'].mean()\n",
        "ave_loan_amt = data['貸款期末本金'].mean()\n",
        "ave_no_loan_dvd = data['未貸款累積配息'].mean()\n",
        "ave_loan_dvd = data['貸款累積配息'].mean()\n",
        "\n",
        "# T檢定\n",
        "statistic, p_value = stats.ttest_ind(\n",
        "    data['未貸款期末本金'] + data['未貸款累積配息'],\n",
        "    data['貸款期末本金'] + data['貸款累積配息']\n",
        ")\n",
        "\n",
        "# 結果輸出\n",
        "if p_value < 0.05:\n",
        "    print(f'貸款 {Loan_amount}, 期數 {Loan_period}, 每期還款金額 {monthly_pay}')\n",
        "    print(f'模擬 {num_simulations} 次後，兩方案有明顯差異')\n",
        "    print(f'經過 {Loan_period} 期後')\n",
        "    if (ave_no_loan_amt + ave_no_loan_dvd) > (ave_loan_amt + ave_loan_dvd):\n",
        "        print(f'平均未貸款方案可多賺 {round((ave_no_loan_amt - ave_loan_amt + ave_no_loan_dvd - ave_loan_dvd), 2)}')\n",
        "    else:\n",
        "        print(f'平均貸款方案可多賺 {round((ave_loan_amt - ave_no_loan_amt + ave_loan_dvd - ave_no_loan_dvd), 2)}')\n",
        "else:\n",
        "    print(f'貸款 {Loan_amount}, 期數 {Loan_period}, 每期還款金額 {monthly_pay}')\n",
        "    print(f'模擬 {num_simulations} 次後，兩方案沒有明顯差異')\n",
        "    print(f'經過 {Loan_period} 期後')\n",
        "    print(f'未貸款方案平均收益為 {round(ave_no_loan_amt, 2)}')\n",
        "    print(f'貸款方案平均收益為 {round(ave_loan_amt, 2)}')\n"
      ]
    }
  ]
}